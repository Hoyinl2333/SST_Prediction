{
 "cells": [
  {
   "cell_type": "code",
   "execution_count": null,
   "metadata": {},
   "outputs": [],
   "source": [
    "# 可视化xarray\n",
    "import xarray as xr\n",
    "\n",
    "file_path = \"D:\\SCUT\\Second Year\\Second Semester\\DeepLearningProject\\SST_Prediciton\\data\\processed\\ERA5\\patches\\2020-01-01_patch_r288_c672.pt\""
   ]
  }
 ],
 "metadata": {
  "kernelspec": {
   "display_name": "SSTEnv",
   "language": "python",
   "name": "python3"
  },
  "language_info": {
   "name": "python",
   "version": "3.10.16"
  }
 },
 "nbformat": 4,
 "nbformat_minor": 2
}
