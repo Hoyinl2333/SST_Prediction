{
 "cells": [
  {
   "cell_type": "markdown",
   "metadata": {},
   "source": [
    "# Diffusion Model 实践\n",
    "这是一个简单的Diffusion Model实践任务：在 MNIST 数据集上训练一个扩散模型（Diffusion Model），使用UNet"
   ]
  },
  {
   "cell_type": "code",
   "execution_count": 18,
   "metadata": {},
   "outputs": [],
   "source": [
    "import torch\n",
    "import torch.nn as nn\n",
    "import torch.nn.functional as F\n",
    "import torchvision\n",
    "import torchvision.transforms as transforms\n",
    "from torch.utils.data import DataLoader\n",
    "from tqdm.notebook import tqdm # 在 Jupyter 环境中使用 tqdm.notebook\n",
    "import math\n",
    "import matplotlib.pyplot as plt # 导入 matplotlib\n"
   ]
  },
  {
   "cell_type": "code",
   "execution_count": 19,
   "metadata": {},
   "outputs": [
    {
     "name": "stdout",
     "output_type": "stream",
     "text": [
      "使用的设备: cuda\n"
     ]
    }
   ],
   "source": [
    "\n",
    "# --------------- 参数设置 ---------------\n",
    "device = \"cuda\" if torch.cuda.is_available() else \"cpu\"\n",
    "print(f\"使用的设备: {device}\")\n",
    "\n",
    "IMG_SIZE = 28 # MNIST 图像大小\n",
    "BATCH_SIZE = 128 # 批量大小\n",
    "EPOCHS = 20 # 训练轮数 (可以根据需要调整，10轮可以看到初步效果，20轮以上效果更好)\n",
    "LR = 1e-3 # 学习率\n",
    "\n",
    "# 扩散模型参数\n",
    "TIMESTEPS = 300 # 时间步长\n",
    "BETA_START = 0.0001 # beta 起始值\n",
    "BETA_END = 0.02 # beta 结束值\n"
   ]
  },
  {
   "cell_type": "code",
   "execution_count": 20,
   "metadata": {},
   "outputs": [
    {
     "name": "stdout",
     "output_type": "stream",
     "text": [
      "开始训练...\n"
     ]
    },
    {
     "data": {
      "application/vnd.jupyter.widget-view+json": {
       "model_id": "e5d50d035e6a4289aa412c66c659686d",
       "version_major": 2,
       "version_minor": 0
      },
      "text/plain": [
       "Epoch 1/20:   0%|          | 0/469 [00:00<?, ?it/s]"
      ]
     },
     "metadata": {},
     "output_type": "display_data"
    },
    {
     "name": "stdout",
     "output_type": "stream",
     "text": [
      "Epoch 1/20 完成, 平均损失: 0.0838\n"
     ]
    },
    {
     "data": {
      "application/vnd.jupyter.widget-view+json": {
       "model_id": "688c58c99fd845eaa87a22420beac27a",
       "version_major": 2,
       "version_minor": 0
      },
      "text/plain": [
       "Epoch 2/20:   0%|          | 0/469 [00:00<?, ?it/s]"
      ]
     },
     "metadata": {},
     "output_type": "display_data"
    },
    {
     "name": "stdout",
     "output_type": "stream",
     "text": [
      "Epoch 2/20 完成, 平均损失: 0.0543\n"
     ]
    },
    {
     "data": {
      "application/vnd.jupyter.widget-view+json": {
       "model_id": "6ff2d8bedb37400a8e7a345dea1d73dc",
       "version_major": 2,
       "version_minor": 0
      },
      "text/plain": [
       "Epoch 3/20:   0%|          | 0/469 [00:00<?, ?it/s]"
      ]
     },
     "metadata": {},
     "output_type": "display_data"
    },
    {
     "name": "stdout",
     "output_type": "stream",
     "text": [
      "Epoch 3/20 完成, 平均损失: 0.0507\n"
     ]
    },
    {
     "data": {
      "application/vnd.jupyter.widget-view+json": {
       "model_id": "b514d0eda1504bf084d60aab89d57db0",
       "version_major": 2,
       "version_minor": 0
      },
      "text/plain": [
       "Epoch 4/20:   0%|          | 0/469 [00:00<?, ?it/s]"
      ]
     },
     "metadata": {},
     "output_type": "display_data"
    },
    {
     "name": "stdout",
     "output_type": "stream",
     "text": [
      "Epoch 4/20 完成, 平均损失: 0.0482\n"
     ]
    },
    {
     "data": {
      "application/vnd.jupyter.widget-view+json": {
       "model_id": "420323904f2a431f8672c77146a66f89",
       "version_major": 2,
       "version_minor": 0
      },
      "text/plain": [
       "Epoch 5/20:   0%|          | 0/469 [00:00<?, ?it/s]"
      ]
     },
     "metadata": {},
     "output_type": "display_data"
    },
    {
     "name": "stdout",
     "output_type": "stream",
     "text": [
      "Epoch 5/20 完成, 平均损失: 0.0466\n"
     ]
    },
    {
     "data": {
      "application/vnd.jupyter.widget-view+json": {
       "model_id": "2724f237dcaa48aba99d2b7688e10085",
       "version_major": 2,
       "version_minor": 0
      },
      "text/plain": [
       "Epoch 6/20:   0%|          | 0/469 [00:00<?, ?it/s]"
      ]
     },
     "metadata": {},
     "output_type": "display_data"
    },
    {
     "name": "stdout",
     "output_type": "stream",
     "text": [
      "Epoch 6/20 完成, 平均损失: 0.0456\n"
     ]
    },
    {
     "data": {
      "application/vnd.jupyter.widget-view+json": {
       "model_id": "341108f163364d5c9566f4db6f993f80",
       "version_major": 2,
       "version_minor": 0
      },
      "text/plain": [
       "Epoch 7/20:   0%|          | 0/469 [00:00<?, ?it/s]"
      ]
     },
     "metadata": {},
     "output_type": "display_data"
    },
    {
     "name": "stdout",
     "output_type": "stream",
     "text": [
      "Epoch 7/20 完成, 平均损失: 0.0456\n"
     ]
    },
    {
     "data": {
      "application/vnd.jupyter.widget-view+json": {
       "model_id": "eb09d7b7fda048cc9fd5bd9bb707b999",
       "version_major": 2,
       "version_minor": 0
      },
      "text/plain": [
       "Epoch 8/20:   0%|          | 0/469 [00:00<?, ?it/s]"
      ]
     },
     "metadata": {},
     "output_type": "display_data"
    },
    {
     "name": "stdout",
     "output_type": "stream",
     "text": [
      "Epoch 8/20 完成, 平均损失: 0.0447\n"
     ]
    },
    {
     "data": {
      "application/vnd.jupyter.widget-view+json": {
       "model_id": "b7e4814333c7411988906df04d8731e8",
       "version_major": 2,
       "version_minor": 0
      },
      "text/plain": [
       "Epoch 9/20:   0%|          | 0/469 [00:00<?, ?it/s]"
      ]
     },
     "metadata": {},
     "output_type": "display_data"
    },
    {
     "name": "stdout",
     "output_type": "stream",
     "text": [
      "Epoch 9/20 完成, 平均损失: 0.0442\n"
     ]
    },
    {
     "data": {
      "application/vnd.jupyter.widget-view+json": {
       "model_id": "b10941bb604640a0a0c73585b9557596",
       "version_major": 2,
       "version_minor": 0
      },
      "text/plain": [
       "Epoch 10/20:   0%|          | 0/469 [00:00<?, ?it/s]"
      ]
     },
     "metadata": {},
     "output_type": "display_data"
    },
    {
     "name": "stdout",
     "output_type": "stream",
     "text": [
      "Epoch 10/20 完成, 平均损失: 0.0440\n"
     ]
    },
    {
     "data": {
      "application/vnd.jupyter.widget-view+json": {
       "model_id": "d5f5bfe4cb4b4e0fa1984478c288963d",
       "version_major": 2,
       "version_minor": 0
      },
      "text/plain": [
       "Epoch 11/20:   0%|          | 0/469 [00:00<?, ?it/s]"
      ]
     },
     "metadata": {},
     "output_type": "display_data"
    },
    {
     "name": "stdout",
     "output_type": "stream",
     "text": [
      "Epoch 11/20 完成, 平均损失: 0.0433\n"
     ]
    },
    {
     "data": {
      "application/vnd.jupyter.widget-view+json": {
       "model_id": "d3bd60dad47746129c1884591aaa54a5",
       "version_major": 2,
       "version_minor": 0
      },
      "text/plain": [
       "Epoch 12/20:   0%|          | 0/469 [00:00<?, ?it/s]"
      ]
     },
     "metadata": {},
     "output_type": "display_data"
    },
    {
     "name": "stdout",
     "output_type": "stream",
     "text": [
      "Epoch 12/20 完成, 平均损失: 0.0434\n"
     ]
    },
    {
     "data": {
      "application/vnd.jupyter.widget-view+json": {
       "model_id": "b84edefb6b9547c1988830a9e6c9b549",
       "version_major": 2,
       "version_minor": 0
      },
      "text/plain": [
       "Epoch 13/20:   0%|          | 0/469 [00:00<?, ?it/s]"
      ]
     },
     "metadata": {},
     "output_type": "display_data"
    },
    {
     "name": "stdout",
     "output_type": "stream",
     "text": [
      "Epoch 13/20 完成, 平均损失: 0.0428\n"
     ]
    },
    {
     "data": {
      "application/vnd.jupyter.widget-view+json": {
       "model_id": "da830583efdb4dc1aa5382bfbef5123e",
       "version_major": 2,
       "version_minor": 0
      },
      "text/plain": [
       "Epoch 14/20:   0%|          | 0/469 [00:00<?, ?it/s]"
      ]
     },
     "metadata": {},
     "output_type": "display_data"
    },
    {
     "name": "stdout",
     "output_type": "stream",
     "text": [
      "Epoch 14/20 完成, 平均损失: 0.0428\n"
     ]
    },
    {
     "data": {
      "application/vnd.jupyter.widget-view+json": {
       "model_id": "c8710acfd5814f8b9ac8b2ee8c0b79ff",
       "version_major": 2,
       "version_minor": 0
      },
      "text/plain": [
       "Epoch 15/20:   0%|          | 0/469 [00:00<?, ?it/s]"
      ]
     },
     "metadata": {},
     "output_type": "display_data"
    },
    {
     "name": "stdout",
     "output_type": "stream",
     "text": [
      "Epoch 15/20 完成, 平均损失: 0.0427\n"
     ]
    },
    {
     "data": {
      "application/vnd.jupyter.widget-view+json": {
       "model_id": "a76cd378e71d4ada9e15031401f7ab7f",
       "version_major": 2,
       "version_minor": 0
      },
      "text/plain": [
       "Epoch 16/20:   0%|          | 0/469 [00:00<?, ?it/s]"
      ]
     },
     "metadata": {},
     "output_type": "display_data"
    },
    {
     "name": "stdout",
     "output_type": "stream",
     "text": [
      "Epoch 16/20 完成, 平均损失: 0.0424\n"
     ]
    },
    {
     "data": {
      "application/vnd.jupyter.widget-view+json": {
       "model_id": "7e26df72844c461b870c7b956ca29c3f",
       "version_major": 2,
       "version_minor": 0
      },
      "text/plain": [
       "Epoch 17/20:   0%|          | 0/469 [00:00<?, ?it/s]"
      ]
     },
     "metadata": {},
     "output_type": "display_data"
    },
    {
     "name": "stdout",
     "output_type": "stream",
     "text": [
      "Epoch 17/20 完成, 平均损失: 0.0425\n"
     ]
    },
    {
     "data": {
      "application/vnd.jupyter.widget-view+json": {
       "model_id": "7e84afbd65e14766a990a230180f189d",
       "version_major": 2,
       "version_minor": 0
      },
      "text/plain": [
       "Epoch 18/20:   0%|          | 0/469 [00:00<?, ?it/s]"
      ]
     },
     "metadata": {},
     "output_type": "display_data"
    },
    {
     "name": "stdout",
     "output_type": "stream",
     "text": [
      "Epoch 18/20 完成, 平均损失: 0.0419\n"
     ]
    },
    {
     "data": {
      "application/vnd.jupyter.widget-view+json": {
       "model_id": "406f6be433e14f15b038b4c115b94f86",
       "version_major": 2,
       "version_minor": 0
      },
      "text/plain": [
       "Epoch 19/20:   0%|          | 0/469 [00:00<?, ?it/s]"
      ]
     },
     "metadata": {},
     "output_type": "display_data"
    },
    {
     "name": "stdout",
     "output_type": "stream",
     "text": [
      "Epoch 19/20 完成, 平均损失: 0.0418\n"
     ]
    },
    {
     "data": {
      "application/vnd.jupyter.widget-view+json": {
       "model_id": "486364e9cce941538825103ffe710ad9",
       "version_major": 2,
       "version_minor": 0
      },
      "text/plain": [
       "Epoch 20/20:   0%|          | 0/469 [00:00<?, ?it/s]"
      ]
     },
     "metadata": {},
     "output_type": "display_data"
    },
    {
     "name": "stdout",
     "output_type": "stream",
     "text": [
      "Epoch 20/20 完成, 平均损失: 0.0416\n",
      "训练完成!\n",
      "\n",
      "尝试生成并显示一些图像...\n",
      "开始采样生成图像...\n"
     ]
    },
    {
     "data": {
      "application/vnd.jupyter.widget-view+json": {
       "model_id": "beb638718de04ef88a7be6d6e0cb31bd",
       "version_major": 2,
       "version_minor": 0
      },
      "text/plain": [
       "采样步骤:   0%|          | 0/300 [00:00<?, ?it/s]"
      ]
     },
     "metadata": {},
     "output_type": "display_data"
    },
    {
     "data": {
      "image/png": "[encoded data removed]",
      "text/plain": [
       "<Figure size 800x800 with 1 Axes>"
      ]
     },
     "metadata": {},
     "output_type": "display_data"
    },
    {
     "name": "stdout",
     "output_type": "stream",
     "text": [
      "生成的图像样本已显示。\n"
     ]
    }
   ],
   "source": [
    "\n",
    "# --------------- 1. UNet 架构 ---------------\n",
    "\n",
    "class SinusoidalPositionEmbeddings(nn.Module):\n",
    "    \"\"\"正弦位置嵌入，用于编码时间步 t\"\"\"\n",
    "    def __init__(self, dim):\n",
    "        super().__init__()\n",
    "        self.dim = dim\n",
    "\n",
    "    def forward(self, time):\n",
    "        half_dim = self.dim // 2\n",
    "        embeddings = math.log(10000) / (half_dim - 1)\n",
    "        embeddings = torch.exp(torch.arange(half_dim, device=device) * -embeddings)\n",
    "        embeddings = time[:, None] * embeddings[None, :]\n",
    "        embeddings = torch.cat((embeddings.sin(), embeddings.cos()), dim=-1)\n",
    "        return embeddings\n",
    "\n",
    "class Block(nn.Module):\n",
    "    \"\"\"基础卷积块\"\"\"\n",
    "    def __init__(self, in_ch, out_ch, time_emb_dim, up=False):\n",
    "        super().__init__()\n",
    "        self.time_mlp =  nn.Linear(time_emb_dim, out_ch)\n",
    "        if up: # 上采样\n",
    "            # 当 up=True 时, 输入 x 已经是拼接后的特征图\n",
    "            self.conv1 = nn.Conv2d(in_ch, out_ch, kernel_size=3, padding=1)\n",
    "            self.transform = nn.ConvTranspose2d(out_ch, out_ch, kernel_size=4, stride=2, padding=1)\n",
    "        else: # 下采样\n",
    "            self.conv1 = nn.Conv2d(in_ch, out_ch, kernel_size=3, padding=1)\n",
    "            self.transform = nn.Conv2d(out_ch, out_ch, kernel_size=4, stride=2, padding=1)\n",
    "        self.conv2 = nn.Conv2d(out_ch, out_ch, kernel_size=3, padding=1)\n",
    "        self.bnorm1 = nn.BatchNorm2d(out_ch)\n",
    "        self.bnorm2 = nn.BatchNorm2d(out_ch)\n",
    "        self.relu  = nn.ReLU()\n",
    "\n",
    "    def forward(self, x, t_emb):\n",
    "        # 时间嵌入\n",
    "        time_emb = self.relu(self.time_mlp(t_emb))\n",
    "        time_emb = time_emb[(..., ) + (None, ) * 2] # (B, C) -> (B, C, 1, 1)\n",
    "\n",
    "        h = self.bnorm1(self.relu(self.conv1(x)))\n",
    "        h = h + time_emb # 将时间信息融入特征\n",
    "        h = self.bnorm2(self.relu(self.conv2(h)))\n",
    "        return self.transform(h)\n",
    "\n",
    "\n",
    "class SimpleUNet(nn.Module):\n",
    "    \"\"\"一个简化的 UNet 模型\"\"\"\n",
    "    def __init__(self, in_channels=1, out_channels=1, time_emb_dim=128, base_dim=64):\n",
    "        super().__init__()\n",
    "        self.time_emb_dim = time_emb_dim\n",
    "\n",
    "        # 时间嵌入层\n",
    "        self.time_mlp = nn.Sequential(\n",
    "            SinusoidalPositionEmbeddings(time_emb_dim),\n",
    "            nn.Linear(time_emb_dim, time_emb_dim),\n",
    "            nn.ReLU()\n",
    "        )\n",
    "\n",
    "        # 初始卷积层\n",
    "        self.init_conv = nn.Conv2d(in_channels, base_dim, kernel_size=3, padding=1)\n",
    "\n",
    "        # 下采样路径\n",
    "        self.down1 = Block(base_dim, base_dim*2, time_emb_dim)      # 28x28 -> 14x14\n",
    "        self.down2 = Block(base_dim*2, base_dim*4, time_emb_dim)    # 14x14 -> 7x7\n",
    "\n",
    "        # 中间瓶颈层\n",
    "        self.bot_conv1 = nn.Conv2d(base_dim*4, base_dim*8, kernel_size=3, padding=1) # 7x7 -> 7x7\n",
    "        self.bot_conv2 = nn.Conv2d(base_dim*8, base_dim*8, kernel_size=3, padding=1) # 7x7 -> 7x7\n",
    "        self.bot_conv3 = nn.Conv2d(base_dim*8, base_dim*4, kernel_size=3, padding=1) # 7x7 -> 7x7\n",
    "\n",
    "        # 上采样路径\n",
    "        # in_ch for Block is the channel size *after* concatenation\n",
    "        self.up1 = Block(in_ch=base_dim*4 + base_dim*4, out_ch=base_dim*2, time_emb_dim=time_emb_dim, up=True) # 7x7 -> 14x14\n",
    "        self.up2 = Block(in_ch=base_dim*2 + base_dim*2, out_ch=base_dim, time_emb_dim=time_emb_dim, up=True)   # 14x14 -> 28x28\n",
    "\n",
    "        # 输出层\n",
    "        # in_ch for out_conv is channel size *after* concatenation\n",
    "        self.out_conv = nn.Conv2d(base_dim + base_dim, out_channels, kernel_size=1)\n",
    "\n",
    "    def forward(self, x, t):\n",
    "        t_emb = self.time_mlp(t)\n",
    "\n",
    "        x1 = self.init_conv(x) # (B, base_dim, 28, 28)\n",
    "\n",
    "        d1 = self.down1(x1, t_emb) # (B, base_dim*2, 14, 14)\n",
    "        d2 = self.down2(d1, t_emb) # (B, base_dim*4, 7, 7)\n",
    "\n",
    "        b = self.bot_conv1(d2)\n",
    "        b = self.bot_conv2(b)\n",
    "        b = self.bot_conv3(b)  # (B, base_dim*4, 7, 7)\n",
    "\n",
    "        u1_in = torch.cat((b, d2), dim=1) # (B, base_dim*4 + base_dim*4, 7, 7)\n",
    "        u1 = self.up1(u1_in, t_emb)       # (B, base_dim*2, 14, 14)\n",
    "\n",
    "        u2_in = torch.cat((u1, d1), dim=1) # (B, base_dim*2 + base_dim*2, 14, 14)\n",
    "        u2 = self.up2(u2_in, t_emb)        # (B, base_dim, 28, 28)\n",
    "\n",
    "        out_in = torch.cat((u2, x1), dim=1) # (B, base_dim + base_dim, 28, 28)\n",
    "        out = self.out_conv(out_in)         # (B, out_channels, 28, 28)\n",
    "\n",
    "        return out\n",
    "\n",
    "# --------------- 2. 扩散模型辅助函数 ---------------\n",
    "\n",
    "def linear_beta_schedule(timesteps, beta_start=BETA_START, beta_end=BETA_END):\n",
    "    return torch.linspace(beta_start, beta_end, timesteps, device=device)\n",
    "\n",
    "betas = linear_beta_schedule(TIMESTEPS)\n",
    "alphas = 1. - betas\n",
    "alphas_cumprod = torch.cumprod(alphas, axis=0)\n",
    "alphas_cumprod_prev = F.pad(alphas_cumprod[:-1], (1, 0), value=1.0)\n",
    "sqrt_recip_alphas = torch.sqrt(1.0 / alphas)\n",
    "\n",
    "sqrt_alphas_cumprod = torch.sqrt(alphas_cumprod)\n",
    "sqrt_one_minus_alphas_cumprod = torch.sqrt(1. - alphas_cumprod)\n",
    "\n",
    "posterior_variance = betas * (1. - alphas_cumprod_prev) / (1. - alphas_cumprod)\n",
    "\n",
    "def q_sample(x_start, t, noise=None):\n",
    "    if noise is None:\n",
    "        noise = torch.randn_like(x_start)\n",
    "    sqrt_alphas_cumprod_t = sqrt_alphas_cumprod[t].view(-1, 1, 1, 1)\n",
    "    sqrt_one_minus_alphas_cumprod_t = sqrt_one_minus_alphas_cumprod[t].view(-1, 1, 1, 1)\n",
    "    return sqrt_alphas_cumprod_t * x_start + sqrt_one_minus_alphas_cumprod_t * noise\n",
    "\n",
    "def p_losses(denoise_model, x_start, t, noise=None, loss_type=\"l2\"): # 通常使用 L2 loss\n",
    "    if noise is None:\n",
    "        noise = torch.randn_like(x_start)\n",
    "    x_noisy = q_sample(x_start=x_start, t=t, noise=noise)\n",
    "    predicted_noise = denoise_model(x_noisy, t)\n",
    "    if loss_type == 'l1':\n",
    "        loss = F.l1_loss(noise, predicted_noise)\n",
    "    elif loss_type == 'l2':\n",
    "        loss = F.mse_loss(noise, predicted_noise)\n",
    "    else:\n",
    "        raise NotImplementedError()\n",
    "    return loss\n",
    "\n",
    "# --------------- 3. 数据准备 ---------------\n",
    "transforms_mnist = transforms.Compose([\n",
    "    transforms.ToTensor(),\n",
    "    transforms.Normalize((0.5,), (0.5,))\n",
    "])\n",
    "\n",
    "train_dataset = torchvision.datasets.MNIST(root=\"./data\", train=True, download=True, transform=transforms_mnist)\n",
    "train_loader = DataLoader(train_dataset, batch_size=BATCH_SIZE, shuffle=True, num_workers=2, pin_memory=True)\n",
    "\n",
    "# --------------- 4. 模型、优化器 ---------------\n",
    "model = SimpleUNet(in_channels=1, out_channels=1, time_emb_dim=128, base_dim=64).to(device)\n",
    "optimizer = torch.optim.AdamW(model.parameters(), lr=LR)\n",
    "\n",
    "# --------------- 5. 训练循环 ---------------\n",
    "print(\"开始训练...\")\n",
    "for epoch in range(EPOCHS):\n",
    "    model.train()\n",
    "    total_loss = 0\n",
    "    # 使用 tqdm.notebook 可以在 Jupyter 中更好显示进度条\n",
    "    progress_bar = tqdm(train_loader, desc=f\"Epoch {epoch+1}/{EPOCHS}\", leave=False)\n",
    "\n",
    "    for step, (batch_images, _) in enumerate(progress_bar):\n",
    "        optimizer.zero_grad()\n",
    "        batch_images = batch_images.to(device)\n",
    "        t = torch.randint(0, TIMESTEPS, (batch_images.shape[0],), device=device).long()\n",
    "        loss = p_losses(model, batch_images, t, loss_type=\"l2\")\n",
    "        loss.backward()\n",
    "        optimizer.step()\n",
    "        total_loss += loss.item()\n",
    "        progress_bar.set_postfix(loss=loss.item())\n",
    "\n",
    "    avg_loss = total_loss / len(train_loader)\n",
    "    print(f\"Epoch {epoch+1}/{EPOCHS} 完成, 平均损失: {avg_loss:.4f}\")\n",
    "\n",
    "    # (可选) 保存模型，如果需要的话\n",
    "    # if (epoch + 1) % 5 == 0:\n",
    "    #     torch.save(model.state_dict(), f\"mnist_diffusion_unet_epoch_{epoch+1}.pth\")\n",
    "    #     print(f\"模型已保存: mnist_diffusion_unet_epoch_{epoch+1}.pth\")\n",
    "\n",
    "print(\"训练完成!\")\n",
    "\n",
    "# --------------- 6. 图像生成/采样 ---------------\n",
    "@torch.no_grad()\n",
    "def p_sample(model, x, t, t_index):\n",
    "    betas_t = betas[t_index]\n",
    "    sqrt_one_minus_alphas_cumprod_t = sqrt_one_minus_alphas_cumprod[t_index]\n",
    "    sqrt_recip_alphas_t = sqrt_recip_alphas[t_index]\n",
    "    predicted_noise = model(x, t)\n",
    "    model_mean = sqrt_recip_alphas_t * (\n",
    "        x - betas_t * predicted_noise / sqrt_one_minus_alphas_cumprod_t\n",
    "    )\n",
    "    if t_index == 0:\n",
    "        return model_mean\n",
    "    else:\n",
    "        posterior_variance_t = posterior_variance[t_index]\n",
    "        noise = torch.randn_like(x)\n",
    "        return model_mean + torch.sqrt(posterior_variance_t) * noise\n",
    "\n",
    "@torch.no_grad()\n",
    "def sample_and_show(model, image_size, batch_size=16, channels=1):\n",
    "    model.eval()\n",
    "    shape = (batch_size, channels, image_size, image_size)\n",
    "    img = torch.randn(shape, device=device)\n",
    "    \n",
    "    print(\"开始采样生成图像...\")\n",
    "    for i in tqdm(reversed(range(0, TIMESTEPS)), desc=\"采样步骤\", total=TIMESTEPS, leave=False):\n",
    "        t_tensor = torch.full((batch_size,), i, device=device, dtype=torch.long)\n",
    "        img = p_sample(model, img, t_tensor, i)\n",
    "    \n",
    "    model.train() # 恢复训练模式\n",
    "    \n",
    "    # 将图像转换回 [0, 1] 范围并创建网格\n",
    "    img = img.cpu() * 0.5 + 0.5 # 反归一化到 [0, 1]\n",
    "    img = torch.clamp(img, 0.0, 1.0) # 确保值在 [0,1]\n",
    "    grid = torchvision.utils.make_grid(img, nrow=4)\n",
    "    \n",
    "    # 使用 Matplotlib 显示图像\n",
    "    plt.figure(figsize=(8,8))\n",
    "    plt.title(\"Generated MNIST Samples\")\n",
    "    # PyTorch 张量是 (C, H, W)，Matplotlib 需要 (H, W, C) 或 (H, W)\n",
    "    plt.imshow(grid.permute(1, 2, 0))\n",
    "    plt.axis(\"off\")\n",
    "    plt.show()\n",
    "    print(\"生成的图像样本已显示。\")\n",
    "\n",
    "# 训练结束后，尝试生成并显示一些图像\n",
    "if EPOCHS > 0: # 确保模型已训练\n",
    "    print(\"\\n尝试生成并显示一些图像...\")\n",
    "    sample_and_show(model, IMG_SIZE, batch_size=16, channels=1)\n",
    "else:\n",
    "    print(\"\\n模型未训练，跳过图像生成。\")"
   ]
  }
 ],
 "metadata": {
  "kernelspec": {
   "display_name": "xypytorch",
   "language": "python",
   "name": "python3"
  },
  "language_info": {
   "codemirror_mode": {
    "name": "ipython",
    "version": 3
   },
   "file_extension": ".py",
   "mimetype": "text/x-python",
   "name": "python",
   "nbconvert_exporter": "python",
   "pygments_lexer": "ipython3",
   "version": "3.10.14"
  }
 },
 "nbformat": 4,
 "nbformat_minor": 2
}
